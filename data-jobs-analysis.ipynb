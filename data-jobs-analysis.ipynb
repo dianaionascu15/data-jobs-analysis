{
 "cells": [
  {
   "cell_type": "code",
   "execution_count": 1,
   "metadata": {},
   "outputs": [],
   "source": [
    "## libraries\n",
    "import pandas as pd\n",
    "import numpy as np\n",
    "\n",
    "import matplotlib.pyplot as plt"
   ]
  },
  {
   "cell_type": "code",
   "execution_count": 2,
   "metadata": {},
   "outputs": [],
   "source": [
    "## import data\n",
    "ds = pd.read_csv('./data/DataScientist.csv')\n",
    "de = pd.read_csv('./data/DataEngineer.csv')\n",
    "da = pd.read_csv('./data/DataAnalyst.csv')\n",
    "\n",
    "#da = pd.read_csv('./data/DataAnalyst.csv', index_col = 0)"
   ]
  },
  {
   "cell_type": "code",
   "execution_count": 3,
   "metadata": {},
   "outputs": [],
   "source": [
    "## drop 'Unnamed: 0' column\n",
    "df_list = [ds, da, de]\n",
    "for df in df_list:\n",
    "    if 'Unnamed: 0' in df.columns:\n",
    "        df.drop(['Unnamed: 0'], axis = 1, inplace = True)"
   ]
  },
  {
   "cell_type": "code",
   "execution_count": 4,
   "metadata": {},
   "outputs": [],
   "source": [
    "ds = ds.replace(['-1', -1, ' ', 'NULL'],np.nan)"
   ]
  },
  {
   "cell_type": "code",
   "execution_count": 5,
   "metadata": {},
   "outputs": [],
   "source": [
    "percent_missing = round(ds.isnull().sum() * 100 / len(ds),3)\n",
    "missing_value_df = pd.DataFrame({'column_name': ds.columns,\n",
    "                                 'percent_missing': percent_missing})\n",
    "missing_value_df.sort_values('percent_missing', ascending= False, inplace=True)\n",
    "\n",
    "missing_value_df = missing_value_df.reset_index()\n",
    "missing_value_df.drop('index', axis = 1, inplace=True) #0 rows, 1 columns\n"
   ]
  },
  {
   "cell_type": "code",
   "execution_count": 7,
   "metadata": {},
   "outputs": [
    {
     "name": "stdout",
     "output_type": "stream",
     "text": [
      "          column_name  percent_missing\n",
      "0          Easy Apply           95.805\n",
      "1         Competitors           70.606\n",
      "2             Founded           24.994\n",
      "3            Industry           13.968\n",
      "4              Sector           13.968\n",
      "5              Rating           10.463\n",
      "6        Headquarters            6.140\n",
      "7                Size            5.858\n",
      "8   Type of ownership            5.858\n",
      "9             Revenue            5.858\n",
      "10          Job Title            0.000\n",
      "11    Salary Estimate            0.000\n",
      "12    Job Description            0.000\n",
      "13       Company Name            0.000\n",
      "14           Location            0.000\n"
     ]
    }
   ],
   "source": [
    "print(missing_value_df)"
   ]
  },
  {
   "cell_type": "code",
   "execution_count": 6,
   "metadata": {},
   "outputs": [
    {
     "name": "stdout",
     "output_type": "stream",
     "text": [
      "   column_name  percent_missing\n",
      "0   Easy Apply           95.805\n",
      "1  Competitors           70.606\n"
     ]
    }
   ],
   "source": [
    "## drop column at specific na%\n",
    "print(missing_value_df[missing_value_df['percent_missing'] > 60])\n",
    "ds = ds.dropna(thresh=ds.shape[0]*0.6, how = 'all', axis = 1)"
   ]
  },
  {
   "cell_type": "code",
   "execution_count": 9,
   "metadata": {},
   "outputs": [
    {
     "data": {
      "text/html": [
       "<div>\n",
       "<style scoped>\n",
       "    .dataframe tbody tr th:only-of-type {\n",
       "        vertical-align: middle;\n",
       "    }\n",
       "\n",
       "    .dataframe tbody tr th {\n",
       "        vertical-align: top;\n",
       "    }\n",
       "\n",
       "    .dataframe thead th {\n",
       "        text-align: right;\n",
       "    }\n",
       "</style>\n",
       "<table border=\"1\" class=\"dataframe\">\n",
       "  <thead>\n",
       "    <tr style=\"text-align: right;\">\n",
       "      <th></th>\n",
       "      <th>Rating</th>\n",
       "      <th>Founded</th>\n",
       "    </tr>\n",
       "  </thead>\n",
       "  <tbody>\n",
       "    <tr>\n",
       "      <th>count</th>\n",
       "      <td>3500.000000</td>\n",
       "      <td>2932.000000</td>\n",
       "    </tr>\n",
       "    <tr>\n",
       "      <th>mean</th>\n",
       "      <td>3.784143</td>\n",
       "      <td>1972.371419</td>\n",
       "    </tr>\n",
       "    <tr>\n",
       "      <th>std</th>\n",
       "      <td>0.614619</td>\n",
       "      <td>52.719618</td>\n",
       "    </tr>\n",
       "    <tr>\n",
       "      <th>min</th>\n",
       "      <td>1.000000</td>\n",
       "      <td>1625.000000</td>\n",
       "    </tr>\n",
       "    <tr>\n",
       "      <th>25%</th>\n",
       "      <td>3.400000</td>\n",
       "      <td>1961.000000</td>\n",
       "    </tr>\n",
       "    <tr>\n",
       "      <th>50%</th>\n",
       "      <td>3.800000</td>\n",
       "      <td>1995.000000</td>\n",
       "    </tr>\n",
       "    <tr>\n",
       "      <th>75%</th>\n",
       "      <td>4.100000</td>\n",
       "      <td>2006.000000</td>\n",
       "    </tr>\n",
       "    <tr>\n",
       "      <th>max</th>\n",
       "      <td>5.000000</td>\n",
       "      <td>2020.000000</td>\n",
       "    </tr>\n",
       "  </tbody>\n",
       "</table>\n",
       "</div>"
      ],
      "text/plain": [
       "            Rating      Founded\n",
       "count  3500.000000  2932.000000\n",
       "mean      3.784143  1972.371419\n",
       "std       0.614619    52.719618\n",
       "min       1.000000  1625.000000\n",
       "25%       3.400000  1961.000000\n",
       "50%       3.800000  1995.000000\n",
       "75%       4.100000  2006.000000\n",
       "max       5.000000  2020.000000"
      ]
     },
     "execution_count": 9,
     "metadata": {},
     "output_type": "execute_result"
    }
   ],
   "source": [
    "ds.describe()"
   ]
  },
  {
   "cell_type": "code",
   "execution_count": null,
   "metadata": {},
   "outputs": [],
   "source": [
    "# univariate analysis\n",
    "## 1. char analysis"
   ]
  },
  {
   "cell_type": "code",
   "execution_count": 9,
   "metadata": {},
   "outputs": [],
   "source": [
    "## job title\n",
    "job_title_counts = ds['Job Title'].value_counts()\n",
    "\n",
    "## lower case the column\n",
    "ds['job_title'] = ds['Job Title'].str.lower()"
   ]
  },
  {
   "cell_type": "code",
   "execution_count": 14,
   "metadata": {},
   "outputs": [],
   "source": [
    "## keep only jobs related to data science & machine learning\n",
    "ds_jobs_list = ['data science', 'data scientist', 'machine learning', 'ml']\n",
    "\n",
    "tmp = ds.job_title.str.contains(\"|\".join(ds_jobs_list))\n",
    "\n",
    "ds2 = ds.copy()\n",
    "ds2.loc[~tmp, \"job_title\"] = np.nan\n",
    "\n",
    "ds2 = ds2[ds2['job_title'].notna()]\n",
    "\n",
    "#ds_2 = ds[ds.job_title.apply(lambda x: np.any(np.in1d(x, ds_jobs_list)))]"
   ]
  },
  {
   "cell_type": "code",
   "execution_count": 18,
   "metadata": {},
   "outputs": [],
   "source": [
    "## job title\n",
    "job_title_counts2 = ds2['job_title'].value_counts()\n",
    "job_title_counts2 = pd.DataFrame({'job':job_title_counts2.index, 'count':job_title_counts2.values})"
   ]
  },
  {
   "cell_type": "code",
   "execution_count": 19,
   "metadata": {},
   "outputs": [],
   "source": [
    "## transform sr. to senior, ml to machine learning, data science to data scientist\n",
    "replace_values = {'sr' : 'senior', 'ml' : 'machine learning', 'data science' : 'data scientist', 'jr.': 'junior'}\n",
    "ds2 = ds2.replace({'job_title': replace_values})\n",
    "\n",
    "#ds2['job_title'] = ds2['job_itle'].str.replace('sr.', 'senior')"
   ]
  },
  {
   "cell_type": "code",
   "execution_count": 23,
   "metadata": {},
   "outputs": [],
   "source": [
    "ds2['job_title_main'] = np.where(ds2.job_title.str.contains('manager'), 'manager/director',\n",
    "np.where(ds2.job_title.str.contains('director'), 'manager/director',\n",
    "np.where(ds2.job_title.str.contains('lead'), 'lead',\n",
    "np.where(ds2.job_title.str.contains('senior'), 'senior/principal',\n",
    "np.where(ds2.job_title.str.contains('principal'), 'senior/principal',\n",
    "np.where(ds2.job_title.str.contains('junior'), 'junior',\n",
    "np.where(ds2.job_title.str.contains('intern'), 'internship',\n",
    "np.where(ds2.job_title.str.contains('machine learning'), 'machine learning', 'data scientist'))))))))"
   ]
  },
  {
   "cell_type": "code",
   "execution_count": 24,
   "metadata": {},
   "outputs": [],
   "source": [
    "## job title main\n",
    "job_title_counts3 = ds2['job_title_main'].value_counts()\n",
    "job_title_counts3 = pd.DataFrame({'job':job_title_counts3.index, 'count':job_title_counts3.values})"
   ]
  },
  {
   "cell_type": "code",
   "execution_count": 26,
   "metadata": {},
   "outputs": [],
   "source": [
    "## location\n",
    "loc = ds2.Location.value_counts()\n",
    "location_value_counts = pd.DataFrame({'location': loc.index, 'count': loc.values})\n",
    "\n",
    "del loc"
   ]
  },
  {
   "cell_type": "code",
   "execution_count": 28,
   "metadata": {},
   "outputs": [],
   "source": [
    "location_split = ds2['Location'].str.split(',', expand = True)\n",
    "ds2['city'], ds2['state'] = location_split[0], location_split[1]"
   ]
  },
  {
   "cell_type": "code",
   "execution_count": 29,
   "metadata": {},
   "outputs": [],
   "source": [
    "## industry\n",
    "ind = ds2.Industry.value_counts()\n",
    "industry_value_counts = pd.DataFrame({'industry': ind.index, 'count': ind.values})\n",
    "\n",
    "del ind"
   ]
  },
  {
   "cell_type": "code",
   "execution_count": 37,
   "metadata": {},
   "outputs": [],
   "source": [
    "sect = ds2.Sector.value_counts()\n",
    "sector_value_counts = pd.DataFrame({'sector': sect.index, 'count': sect.values})\n",
    "\n",
    "del sect"
   ]
  },
  {
   "cell_type": "code",
   "execution_count": 40,
   "metadata": {},
   "outputs": [],
   "source": [
    "\n",
    "#sector_value_counts['sector'] = np.where(sector_value_counts['count'] <= 20, 'other', sector_value_counts['sector'])\n",
    "\n",
    "## select sectors <= 20 obs\n",
    "sector_few_vals = sector_value_counts[sector_value_counts['count'] <= 20]['sector']\n",
    "\n",
    "## replace with 'Other'\n",
    "\n",
    "ds2['sector_main'] = np.where(ds2.Sector.isin(sector_few_vals), 'Other', ds2['Sector'])"
   ]
  },
  {
   "cell_type": "code",
   "execution_count": 41,
   "metadata": {},
   "outputs": [
    {
     "data": {
      "text/plain": [
       "Information Technology       524\n",
       "Business Services            188\n",
       "Other                         92\n",
       "Finance                       77\n",
       "Insurance                     54\n",
       "Media                         40\n",
       "Retail                        40\n",
       "Health Care                   38\n",
       "Biotech & Pharmaceuticals     32\n",
       "Manufacturing                 24\n",
       "Education                     22\n",
       "Government                    21\n",
       "Name: sector_main, dtype: int64"
      ]
     },
     "execution_count": 41,
     "metadata": {},
     "output_type": "execute_result"
    }
   ],
   "source": [
    "ds2.sector_main.value_counts()"
   ]
  },
  {
   "cell_type": "code",
   "execution_count": 25,
   "metadata": {},
   "outputs": [],
   "source": [
    "char_df = ds2.select_dtypes(include = ['object'])"
   ]
  }
 ],
 "metadata": {
  "interpreter": {
   "hash": "7812ea015bdcee6f23a998adcdd2ef97c151c0c241b7b7070987d9313e41299d"
  },
  "kernelspec": {
   "display_name": "Python 3.9.4 64-bit",
   "language": "python",
   "name": "python3"
  },
  "language_info": {
   "codemirror_mode": {
    "name": "ipython",
    "version": 3
   },
   "file_extension": ".py",
   "mimetype": "text/x-python",
   "name": "python",
   "nbconvert_exporter": "python",
   "pygments_lexer": "ipython3",
   "version": "3.9.4"
  },
  "orig_nbformat": 4
 },
 "nbformat": 4,
 "nbformat_minor": 2
}
